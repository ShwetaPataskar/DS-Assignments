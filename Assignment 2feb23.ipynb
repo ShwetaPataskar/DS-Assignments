{
 "cells": [
  {
   "cell_type": "markdown",
   "id": "87ed08c1-a28a-459f-b7c5-b778c5287690",
   "metadata": {},
   "source": [
    "Q1. Explain with an example each when to use a for loop and a while loop.\n",
    "Ans--\n",
    "1. for loop is used when number of iterations are already known & it never checks for the condition at first\n",
    "2. for loop is a single line command and can be executed repeatedly\n",
    "3. below is an example of for loop"
   ]
  },
  {
   "cell_type": "code",
   "execution_count": 2,
   "id": "84a10f3f-a9da-4f87-bff3-dac0bc9e1913",
   "metadata": {},
   "outputs": [
    {
     "name": "stdout",
     "output_type": "stream",
     "text": [
      "1\n",
      "2\n",
      "3\n",
      "4\n",
      "5\n"
     ]
    }
   ],
   "source": [
    "l=[1,2,3,4,5]\n",
    "for i in l:\n",
    "    print(i)"
   ]
  },
  {
   "cell_type": "markdown",
   "id": "d7031bb4-b5e3-434a-a04f-de41d86b53a1",
   "metadata": {},
   "source": [
    "above the for loop is getting executed for the mentioned list and it is displaying the list members which are integer type as an output"
   ]
  },
  {
   "cell_type": "markdown",
   "id": "b6986969-8980-43f2-a6a6-7f050b59aa59",
   "metadata": {},
   "source": [
    "while loop---\n",
    "1. while loop is used when number of iterations are unkown \n",
    "2. The statement repeats itself till the boolean value becomes false\n",
    "3. In a while loop, the condition is tested at the start\n",
    "4. below is an example of while loop"
   ]
  },
  {
   "cell_type": "code",
   "execution_count": 8,
   "id": "e28b6e06-16de-40c6-afc6-1b43ebe4e014",
   "metadata": {},
   "outputs": [
    {
     "name": "stdout",
     "output_type": "stream",
     "text": [
      "1\n",
      "2\n",
      "3\n",
      "4\n",
      "5\n",
      "6\n",
      "7\n",
      "8\n",
      "9\n",
      "10\n"
     ]
    }
   ],
   "source": [
    "a=1\n",
    "while a<=10:\n",
    "     print(a)\n",
    "     a=a+1\n",
    "     \n",
    "    "
   ]
  },
  {
   "cell_type": "markdown",
   "id": "fcf70b15-32cc-4003-995a-156da4758f5f",
   "metadata": {},
   "source": [
    "above while loop is getting executed until the condition becomes false. at 'a>11' the loop breaks and execution stops"
   ]
  },
  {
   "cell_type": "markdown",
   "id": "acda0574-e272-4047-91b5-beb62b0512a1",
   "metadata": {},
   "source": [
    "Q2. Write a python program to print the sum and product of the first 10 natural numbers using for and while loop.\n"
   ]
  },
  {
   "cell_type": "code",
   "execution_count": null,
   "id": "b1812a33-9117-4494-949d-35695692d85a",
   "metadata": {},
   "outputs": [],
   "source": [
    "#Using \"for loop\" for sum of first 10 natural numbers\n",
    "result=0\n",
    "for i in range(1,11):\n",
    "    result=result+i\n",
    "print(\"Sum is\", result)\n",
    "    "
   ]
  },
  {
   "cell_type": "code",
   "execution_count": null,
   "id": "dfe39f06-aef2-4a19-94ee-5c6c6759bce4",
   "metadata": {},
   "outputs": [],
   "source": [
    "#using \"for loop\" for product of first 10 natural numbers\n",
    "result=1\n",
    "for i in range(1,11):\n",
    "    result=result*i\n",
    "print(\"Product is\", result)"
   ]
  },
  {
   "cell_type": "code",
   "execution_count": 1,
   "id": "5ce4945e-a4b4-469d-903a-d738259ea372",
   "metadata": {},
   "outputs": [
    {
     "name": "stdout",
     "output_type": "stream",
     "text": [
      "sum is 55\n"
     ]
    }
   ],
   "source": [
    "#using \"while loop\" for sum of first 10 natural numbers\n",
    "a=1\n",
    "sum=0\n",
    "while a<=10:\n",
    "    sum=sum+a\n",
    "    a=a+1\n",
    "print(\"sum is\", sum)"
   ]
  },
  {
   "cell_type": "code",
   "execution_count": 1,
   "id": "98ac61a0-6922-4733-a028-c39e54b1cd60",
   "metadata": {},
   "outputs": [
    {
     "name": "stdout",
     "output_type": "stream",
     "text": [
      "product is 3628800\n"
     ]
    }
   ],
   "source": [
    "#using \"while loop\" for product of first 10 natural numbers\n",
    "a=1\n",
    "result=1\n",
    "while a<=10:\n",
    "    result=result*a\n",
    "    a=a+1\n",
    "print(\"product is\", result)"
   ]
  },
  {
   "cell_type": "markdown",
   "id": "0eb30a31-7075-4b44-8135-e2b66857dcd4",
   "metadata": {},
   "source": [
    "Q3. Create a python program to compute the electricity bill for a household.The per-unit charges in rupees are as follows: For the first 100 units, the user will be charged Rs. 4.5 per\n",
    "unit, for the next 100 units, the user will be charged Rs. 6 per unit, and for the next 100 units, the user will be charged Rs. 10 per unit, After 300 units and above the user will be charged Rs. 20 per unit.You are required to take the units of electricity consumed in a month from the user as input. Your program must pass this test case: when the unit of electricity consumed by the user in a month is 310, the total electricity bill should be 2250."
   ]
  },
  {
   "cell_type": "code",
   "execution_count": 10,
   "id": "de188423-0261-4bf5-bbfd-2079e5dc9a13",
   "metadata": {},
   "outputs": [
    {
     "name": "stdin",
     "output_type": "stream",
     "text": [
      "enter the units 310\n"
     ]
    },
    {
     "name": "stdout",
     "output_type": "stream",
     "text": [
      "2250\n"
     ]
    }
   ],
   "source": [
    "units= int(input(\"enter the units\"))\n",
    "\n",
    "if units<=100:\n",
    "    total=units*4.5\n",
    "elif units>=101 and units<=200:\n",
    "    total=450+((units-100)*6)\n",
    "elif units>=201 and units<=300:\n",
    "    total=450+600+((units-200)*10)\n",
    "else:\n",
    "    total=450+600+1000+((units-300)*20)\n",
    "    \n",
    "print(total)\n",
    "    \n"
   ]
  },
  {
   "cell_type": "markdown",
   "id": "3c90e57d-2504-4b4d-a35f-0f70062c175f",
   "metadata": {},
   "source": [
    "Q4. Create a list of numbers from 1 to 100. Use for loop and while loop to calculate the cube of each number and if the cube of that number is divisible by 4 or 5 then append that number in a list and print that list."
   ]
  },
  {
   "cell_type": "code",
   "execution_count": 36,
   "id": "d4912b2d-b3a0-4d8a-b043-902ce10dfb06",
   "metadata": {},
   "outputs": [
    {
     "name": "stdout",
     "output_type": "stream",
     "text": [
      "[8, 64, 125, 216, 512, 1000, 1728, 2744, 3375, 4096, 5832, 8000, 10648, 13824, 15625, 17576, 21952, 27000, 32768, 39304, 42875, 46656, 54872, 64000, 74088, 85184, 91125, 97336, 110592, 125000, 140608, 157464, 166375, 175616, 195112, 216000, 238328, 262144, 274625, 287496, 314432, 343000, 373248, 405224, 421875, 438976, 474552, 512000, 551368, 592704, 614125, 636056, 681472, 729000, 778688, 830584, 857375, 884736, 941192, 1000000]\n"
     ]
    }
   ],
   "source": [
    "cube=[]\n",
    "for i in range(1,101):\n",
    "    if (i**3) % 4 ==0 or (i**3) %5==0:\n",
    "        cube.append(i**3)\n",
    "print(cube)"
   ]
  },
  {
   "cell_type": "markdown",
   "id": "dfbcff8e-5429-4689-9780-e99fe7f43d24",
   "metadata": {},
   "source": [
    "Q5. Write a program to filter count vowels in the below-given string.\n",
    "string = \"I want to become a data scientist\""
   ]
  },
  {
   "cell_type": "code",
   "execution_count": 37,
   "id": "ae6466d5-b45a-41e1-a707-4e4301f553a3",
   "metadata": {},
   "outputs": [],
   "source": [
    "string = \"I want to become a data scientist\"\n",
    "count=0\n",
    "vow=[\"a\",\"e\",\"i\",\"o\",\"u\"]\n",
    "for i in (len(string)):\n",
    "    if string[i] in vow:\n",
    "        count=count+1\n",
    "        \n"
   ]
  },
  {
   "cell_type": "code",
   "execution_count": null,
   "id": "74883e55-38eb-4588-861d-66e5c6093073",
   "metadata": {},
   "outputs": [],
   "source": []
  }
 ],
 "metadata": {
  "kernelspec": {
   "display_name": "Python 3 (ipykernel)",
   "language": "python",
   "name": "python3"
  },
  "language_info": {
   "codemirror_mode": {
    "name": "ipython",
    "version": 3
   },
   "file_extension": ".py",
   "mimetype": "text/x-python",
   "name": "python",
   "nbconvert_exporter": "python",
   "pygments_lexer": "ipython3",
   "version": "3.10.8"
  }
 },
 "nbformat": 4,
 "nbformat_minor": 5
}
